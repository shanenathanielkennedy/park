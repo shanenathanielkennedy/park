{
 "cells": [
  {
   "cell_type": "code",
   "execution_count": 1,
   "id": "377dea46",
   "metadata": {},
   "outputs": [
    {
     "name": "stdout",
     "output_type": "stream",
     "text": [
      "{'Capitol Square North Garage': 230, 'Overture Center Garage': 287, 'South Livingston Street Garage': 430, 'State Street Campus Garage': 292, 'State Street Capitol Garage': 361, 'Wilson Street Garage': 410}\n"
     ]
    }
   ],
   "source": [
    "### make main.py\n",
    "### build the scraper\n",
    "### build the notification system\n",
    "### use apache airflow??\n",
    "### additional functionality/ ui/ux\n",
    "\n",
    "import json\n",
    "from urllib.request import urlopen\n",
    "\n",
    "url = \"https://www.cityofmadison.com/parking-utility/data/ramp-availability.json\"\n",
    "unwanted_lots = [\"Brayton Lot\"]\n",
    "\n",
    "\n",
    "response = urlopen(url)\n",
    "json_data = json.loads(response.read())\n",
    "data = {d[\"name\"]:d[\"vacant_stalls\"] for d in json_data if d[\"name\"] not in unwanted_lots}\n",
    "\n",
    "print(data)"
   ]
  },
  {
   "cell_type": "code",
   "execution_count": null,
   "id": "f2ff4a98",
   "metadata": {},
   "outputs": [],
   "source": [
    "# def send_email(subject, msg, mail_to):\n",
    "#     try:\n",
    "#         mail_from = 'email address'\n",
    "#         password = 'password'\n",
    "#         mail_to = mail_to\n",
    "#         server = smtplib.SMTP('smtp.live.com', 587)\n",
    "#         server.ehlo()\n",
    "#         server.starttls()\n",
    "#         server.login(mail_from, password)\n",
    "#         message = f'Subject: {subject}\\n\\n{msg}'\n",
    "#         server.sendmail(mail_from, mail_to, message)\n",
    "#         server.quit()\n",
    "#         print('Email successfully sent!')\n",
    "#     except:\n",
    "#         print('Failed to send email.')"
   ]
  }
 ],
 "metadata": {
  "kernelspec": {
   "display_name": "Python 3",
   "language": "python",
   "name": "python3"
  },
  "language_info": {
   "codemirror_mode": {
    "name": "ipython",
    "version": 3
   },
   "file_extension": ".py",
   "mimetype": "text/x-python",
   "name": "python",
   "nbconvert_exporter": "python",
   "pygments_lexer": "ipython3",
   "version": "3.10.10"
  },
  "vscode": {
   "interpreter": {
    "hash": "af1a5856d913a464ee0f12bbd64bea9be3fbfae5a6301958e821b6219de75822"
   }
  }
 },
 "nbformat": 4,
 "nbformat_minor": 5
}
