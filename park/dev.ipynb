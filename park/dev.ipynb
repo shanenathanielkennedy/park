{
 "cells": [
  {
   "cell_type": "code",
   "execution_count": 24,
   "id": "377dea46",
   "metadata": {},
   "outputs": [],
   "source": [
    "### make main.py\n",
    "### build the scraper\n",
    "### build the notification system\n",
    "### use apache airflow??\n",
    "### additional functionality/ ui/ux\n",
    "\n",
    "import json\n",
    "from urllib.request import urlopen\n",
    "\n",
    "url = \"https://www.cityofmadison.com/parking-utility/data/ramp-availability.json\"\n",
    "unwanted_lots = [\"Brayton Lot\"]\n",
    "\n",
    "\n",
    "response = urlopen(url)\n",
    "json_data = json.loads(response.read())\n",
    "data = {d[\"name\"]:d[\"vacant_stalls\"] for d in json_data if d[\"name\"] not in unwanted_lots}"
   ]
  },
  {
   "cell_type": "code",
   "execution_count": null,
   "id": "09ead450",
   "metadata": {},
   "outputs": [],
   "source": []
  }
 ],
 "metadata": {
  "kernelspec": {
   "display_name": "Python 3 (ipykernel)",
   "language": "python",
   "name": "python3"
  },
  "language_info": {
   "codemirror_mode": {
    "name": "ipython",
    "version": 3
   },
   "file_extension": ".py",
   "mimetype": "text/x-python",
   "name": "python",
   "nbconvert_exporter": "python",
   "pygments_lexer": "ipython3",
   "version": "3.9.13"
  }
 },
 "nbformat": 4,
 "nbformat_minor": 5
}
