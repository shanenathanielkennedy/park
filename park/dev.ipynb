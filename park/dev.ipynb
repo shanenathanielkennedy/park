{
 "cells": [
  {
   "cell_type": "code",
   "execution_count": null,
   "id": "377dea46",
   "metadata": {},
   "outputs": [],
   "source": [
    "### make main.py\n",
    "### build the scraper\n",
    "### build the notification system\n",
    "### use apache airflow??\n",
    "### additional functionality/ ui/ux\n"
   ]
  }
 ],
 "metadata": {
  "kernelspec": {
   "display_name": "Python 3 (ipykernel)",
   "language": "python",
   "name": "python3"
  },
  "language_info": {
   "codemirror_mode": {
    "name": "ipython",
    "version": 3
   },
   "file_extension": ".py",
   "mimetype": "text/x-python",
   "name": "python",
   "nbconvert_exporter": "python",
   "pygments_lexer": "ipython3",
   "version": "3.9.13"
  }
 },
 "nbformat": 4,
 "nbformat_minor": 5
}
