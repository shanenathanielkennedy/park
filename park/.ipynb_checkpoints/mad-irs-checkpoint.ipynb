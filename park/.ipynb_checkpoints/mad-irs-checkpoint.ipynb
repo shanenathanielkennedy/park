{
 "cells": [
  {
   "cell_type": "code",
   "execution_count": 50,
   "id": "fb0c3f8a",
   "metadata": {},
   "outputs": [],
   "source": [
    "from selenium import webdriver\n",
    "from selenium.webdriver.chrome.options import Options\n",
    "from selenium.webdriver.chrome.service import Service\n",
    "from selenium.common.exceptions import NoSuchElementException\n",
    "import matplotlib.pyplot as plt\n",
    "import pandas as pd\n",
    "import numpy as np\n",
    "import seaborn as sns\n",
    "import matplotlib, time, string, re"
   ]
  },
  {
   "cell_type": "code",
   "execution_count": 16,
   "id": "f748c8e1",
   "metadata": {},
   "outputs": [],
   "source": [
    "# Setup of Webdriver and Selenium\n",
    "\n",
    "options = Options()\n",
    "#options.headless = True\n",
    "service = Service(executable_path=\"C:\\Program Files (x86)\\chromedriver.exe\")\n",
    "driver = webdriver.Chrome(options=options, service=service)"
   ]
  },
  {
   "cell_type": "code",
   "execution_count": 17,
   "id": "5992f5d9",
   "metadata": {},
   "outputs": [],
   "source": [
    "# The City of Madison states that the data in the incident reports are not necessarily reflective of \n",
    "#    total crime statistics, but instead are chosen by the Officer in Charge's discretion of\n",
    "#     what cases may have public interest.\n",
    "\n",
    "## WRITE THIS TO A FILE STORED ON MY PC, and then COMMENT OUT SCRAPER\n",
    "# Here we are populating the dataset by scraping each page's table.\n",
    "url = \"https://www.cityofmadison.com/police/newsroom/incidentreports/\"\n",
    "driver.get(url)\n",
    "data = []  \n",
    "\n",
    "for i in range(5): ## Change to while True to get whole dataset\n",
    "    main_content = driver.find_element(\"id\", \"main-content\")\n",
    "    #headers = main_content.find_elements(\"class name\", \"row.title.incident-reports\") # Used for reference \n",
    "    rows = main_content.find_elements(\"class name\", \"row.incident-reports\")[1:] # Slicing off header row \n",
    "    for row in rows:\n",
    "        date = row.find_element(\"class name\", \"date\")\n",
    "        incident = row.find_element(\"class name\", \"agency\")\n",
    "        casenumber = row.find_element(\"class name\", \"casenumber\")\n",
    "        address = row.find_element(\"class name\", \"address\")\n",
    "        officer = row.find_element(\"class name\", \"releasedby\")\n",
    "        updated = row.find_element(\"class name\", \"updated\")\n",
    "        link = row.find_element(\"tag name\", \"a\") # driver.get(link), description = Class name span5\n",
    "        #description = row.find_element(\"\").find_element(\"\")\n",
    "        data.append([date.text, incident.text, address.text, officer.text, \n",
    "                     casenumber.text, updated.text, link.get_attribute(\"href\")])\n",
    "    try:\n",
    "        next_button = main_content.find_element(\"link text\", \"Next »\")\n",
    "        next_button.click()\n",
    "    except NoSuchElementException:\n",
    "        break\n",
    "        \n",
    "        \n",
    "df = pd.DataFrame(data, columns=[\"date\", \"incident\",\"address\",\"officer\",\"casenumber\",\"updated\",\"link\"])\n",
    "\n",
    "df.to_csv(\"/data.csv\")"
   ]
  },
  {
   "cell_type": "code",
   "execution_count": 18,
   "id": "c47ac1f2",
   "metadata": {},
   "outputs": [],
   "source": [
    "# Here we are accessing each of the linked full incident-reports in order to \n",
    "#      pull the description and add it to the dataframe.\n",
    "\n",
    "description_list = []\n",
    "for link in df[\"link\"]:\n",
    "    driver.get(link)\n",
    "    description = driver.find_elements(\"class name\", \"span5\")[-1]\n",
    "    description_list.append(description.text)\n",
    "df[\"description\"] = description_list"
   ]
  },
  {
   "cell_type": "code",
   "execution_count": 35,
   "id": "45a91cb8",
   "metadata": {},
   "outputs": [
    {
     "data": {
      "text/html": [
       "<div>\n",
       "<style scoped>\n",
       "    .dataframe tbody tr th:only-of-type {\n",
       "        vertical-align: middle;\n",
       "    }\n",
       "\n",
       "    .dataframe tbody tr th {\n",
       "        vertical-align: top;\n",
       "    }\n",
       "\n",
       "    .dataframe thead th {\n",
       "        text-align: right;\n",
       "    }\n",
       "</style>\n",
       "<table border=\"1\" class=\"dataframe\">\n",
       "  <thead>\n",
       "    <tr style=\"text-align: right;\">\n",
       "      <th></th>\n",
       "      <th>date</th>\n",
       "      <th>incident</th>\n",
       "      <th>address</th>\n",
       "      <th>officer</th>\n",
       "      <th>updated</th>\n",
       "      <th>link</th>\n",
       "      <th>description</th>\n",
       "    </tr>\n",
       "    <tr>\n",
       "      <th>casenumber</th>\n",
       "      <th></th>\n",
       "      <th></th>\n",
       "      <th></th>\n",
       "      <th></th>\n",
       "      <th></th>\n",
       "      <th></th>\n",
       "      <th></th>\n",
       "    </tr>\n",
       "  </thead>\n",
       "  <tbody>\n",
       "    <tr>\n",
       "      <th>2022-000000</th>\n",
       "      <td>11/09/2022</td>\n",
       "      <td>Fraud</td>\n",
       "      <td>211 S. Carroll St.</td>\n",
       "      <td>P.O. Hunter Lisko</td>\n",
       "      <td></td>\n",
       "      <td>https://www.cityofmadison.com/police/newsroom/...</td>\n",
       "      <td>Recently, there has been an uptick in scams ta...</td>\n",
       "    </tr>\n",
       "    <tr>\n",
       "      <th>2022-457354</th>\n",
       "      <td>11/09/2022</td>\n",
       "      <td>Traffic Incident</td>\n",
       "      <td>Beltline/S. Midvale Blvd.</td>\n",
       "      <td>P.O. Hunter Lisko</td>\n",
       "      <td></td>\n",
       "      <td>https://www.cityofmadison.com/police/newsroom/...</td>\n",
       "      <td>Yesterday afternoon at approximately 2:00 p.m....</td>\n",
       "    </tr>\n",
       "    <tr>\n",
       "      <th>2022-277138</th>\n",
       "      <td>11/08/2022</td>\n",
       "      <td>Traffic Incident</td>\n",
       "      <td>900 block E. Washington Ave.</td>\n",
       "      <td>P.O. Hunter Lisko</td>\n",
       "      <td></td>\n",
       "      <td>https://www.cityofmadison.com/police/newsroom/...</td>\n",
       "      <td>As part of the Madison Police Department's com...</td>\n",
       "    </tr>\n",
       "    <tr>\n",
       "      <th>2022-446354</th>\n",
       "      <td>11/03/2022</td>\n",
       "      <td>Missing Adult</td>\n",
       "      <td>West Side</td>\n",
       "      <td>Livia Novitzke</td>\n",
       "      <td>11/07/2022</td>\n",
       "      <td>https://www.cityofmadison.com/police/newsroom/...</td>\n",
       "      <td>Missing is a Theodore (TJ) Weege. TJ is a whit...</td>\n",
       "    </tr>\n",
       "    <tr>\n",
       "      <th>2022-453702</th>\n",
       "      <td>11/07/2022</td>\n",
       "      <td>Robbery</td>\n",
       "      <td>4217 W. Beltline Hwy</td>\n",
       "      <td>P.O. Hunter Lisko</td>\n",
       "      <td></td>\n",
       "      <td>https://www.cityofmadison.com/police/newsroom/...</td>\n",
       "      <td>On Sunday evening just before 9:00 p.m., offic...</td>\n",
       "    </tr>\n",
       "    <tr>\n",
       "      <th>...</th>\n",
       "      <td>...</td>\n",
       "      <td>...</td>\n",
       "      <td>...</td>\n",
       "      <td>...</td>\n",
       "      <td>...</td>\n",
       "      <td>...</td>\n",
       "      <td>...</td>\n",
       "    </tr>\n",
       "    <tr>\n",
       "      <th>2022-398202</th>\n",
       "      <td>09/29/2022</td>\n",
       "      <td>Arrested Person</td>\n",
       "      <td>5400 block of High Crossing Blvd</td>\n",
       "      <td>P.O. Ryan Kimberley</td>\n",
       "      <td></td>\n",
       "      <td>https://www.cityofmadison.com/police/newsroom/...</td>\n",
       "      <td>Madison Police Officers responded to the 5400 ...</td>\n",
       "    </tr>\n",
       "    <tr>\n",
       "      <th>0000-00000000</th>\n",
       "      <td>09/29/2022</td>\n",
       "      <td>Information</td>\n",
       "      <td>211 S Carrol St</td>\n",
       "      <td>P.O. Ryan Kimberley</td>\n",
       "      <td></td>\n",
       "      <td>https://www.cityofmadison.com/police/newsroom/...</td>\n",
       "      <td>The Madison Police Department has been inundat...</td>\n",
       "    </tr>\n",
       "    <tr>\n",
       "      <th>2022-397827</th>\n",
       "      <td>09/28/2022</td>\n",
       "      <td>Information</td>\n",
       "      <td>1434 Northport Dr</td>\n",
       "      <td>Sgt. Nicholas Eull</td>\n",
       "      <td></td>\n",
       "      <td>https://www.cityofmadison.com/police/newsroom/...</td>\n",
       "      <td>On 09/28/22 at approximately 7:39 PM, a Madiso...</td>\n",
       "    </tr>\n",
       "    <tr>\n",
       "      <th>2022-397373</th>\n",
       "      <td>09/28/2022</td>\n",
       "      <td>Weapons Violation</td>\n",
       "      <td>3700 block Lien Rd</td>\n",
       "      <td>Sgt. Nicholas Eull</td>\n",
       "      <td></td>\n",
       "      <td>https://www.cityofmadison.com/police/newsroom/...</td>\n",
       "      <td>Madison Police responded to the 3700 block of ...</td>\n",
       "    </tr>\n",
       "    <tr>\n",
       "      <th>2022-391907</th>\n",
       "      <td>09/26/2022</td>\n",
       "      <td>Sexual Assault</td>\n",
       "      <td>400 block N. Thompson Dr.</td>\n",
       "      <td>P.O. Hunter Lisko</td>\n",
       "      <td></td>\n",
       "      <td>https://www.cityofmadison.com/police/newsroom/...</td>\n",
       "      <td>On Saturday evening around 8:00 p.m., MPD offi...</td>\n",
       "    </tr>\n",
       "  </tbody>\n",
       "</table>\n",
       "<p>80 rows × 7 columns</p>\n",
       "</div>"
      ],
      "text/plain": [
       "                     date           incident  \\\n",
       "casenumber                                     \n",
       "2022-000000    11/09/2022              Fraud   \n",
       "2022-457354    11/09/2022   Traffic Incident   \n",
       "2022-277138    11/08/2022   Traffic Incident   \n",
       "2022-446354    11/03/2022      Missing Adult   \n",
       "2022-453702    11/07/2022            Robbery   \n",
       "...                   ...                ...   \n",
       "2022-398202    09/29/2022    Arrested Person   \n",
       "0000-00000000  09/29/2022        Information   \n",
       "2022-397827    09/28/2022        Information   \n",
       "2022-397373    09/28/2022  Weapons Violation   \n",
       "2022-391907    09/26/2022     Sexual Assault   \n",
       "\n",
       "                                        address              officer  \\\n",
       "casenumber                                                             \n",
       "2022-000000                  211 S. Carroll St.    P.O. Hunter Lisko   \n",
       "2022-457354           Beltline/S. Midvale Blvd.    P.O. Hunter Lisko   \n",
       "2022-277138        900 block E. Washington Ave.    P.O. Hunter Lisko   \n",
       "2022-446354                           West Side       Livia Novitzke   \n",
       "2022-453702                4217 W. Beltline Hwy    P.O. Hunter Lisko   \n",
       "...                                         ...                  ...   \n",
       "2022-398202    5400 block of High Crossing Blvd  P.O. Ryan Kimberley   \n",
       "0000-00000000                   211 S Carrol St  P.O. Ryan Kimberley   \n",
       "2022-397827                   1434 Northport Dr   Sgt. Nicholas Eull   \n",
       "2022-397373                  3700 block Lien Rd   Sgt. Nicholas Eull   \n",
       "2022-391907           400 block N. Thompson Dr.    P.O. Hunter Lisko   \n",
       "\n",
       "                  updated                                               link  \\\n",
       "casenumber                                                                     \n",
       "2022-000000                https://www.cityofmadison.com/police/newsroom/...   \n",
       "2022-457354                https://www.cityofmadison.com/police/newsroom/...   \n",
       "2022-277138                https://www.cityofmadison.com/police/newsroom/...   \n",
       "2022-446354    11/07/2022  https://www.cityofmadison.com/police/newsroom/...   \n",
       "2022-453702                https://www.cityofmadison.com/police/newsroom/...   \n",
       "...                   ...                                                ...   \n",
       "2022-398202                https://www.cityofmadison.com/police/newsroom/...   \n",
       "0000-00000000              https://www.cityofmadison.com/police/newsroom/...   \n",
       "2022-397827                https://www.cityofmadison.com/police/newsroom/...   \n",
       "2022-397373                https://www.cityofmadison.com/police/newsroom/...   \n",
       "2022-391907                https://www.cityofmadison.com/police/newsroom/...   \n",
       "\n",
       "                                                     description  \n",
       "casenumber                                                        \n",
       "2022-000000    Recently, there has been an uptick in scams ta...  \n",
       "2022-457354    Yesterday afternoon at approximately 2:00 p.m....  \n",
       "2022-277138    As part of the Madison Police Department's com...  \n",
       "2022-446354    Missing is a Theodore (TJ) Weege. TJ is a whit...  \n",
       "2022-453702    On Sunday evening just before 9:00 p.m., offic...  \n",
       "...                                                          ...  \n",
       "2022-398202    Madison Police Officers responded to the 5400 ...  \n",
       "0000-00000000  The Madison Police Department has been inundat...  \n",
       "2022-397827    On 09/28/22 at approximately 7:39 PM, a Madiso...  \n",
       "2022-397373    Madison Police responded to the 3700 block of ...  \n",
       "2022-391907    On Saturday evening around 8:00 p.m., MPD offi...  \n",
       "\n",
       "[80 rows x 7 columns]"
      ]
     },
     "execution_count": 35,
     "metadata": {},
     "output_type": "execute_result"
    }
   ],
   "source": [
    "# First, Let us take a quick look at our dataset!\n",
    "df.head()\n",
    "df.set_index('casenumber')"
   ]
  },
  {
   "cell_type": "code",
   "execution_count": 39,
   "id": "8b22fe97",
   "metadata": {},
   "outputs": [
    {
     "data": {
      "text/plain": [
       "date                                                  11/07/2022\n",
       "incident                                                 Robbery\n",
       "address                                     4217 W. Beltline Hwy\n",
       "officer                                        P.O. Hunter Lisko\n",
       "casenumber                                           2022-453702\n",
       "updated                                                         \n",
       "link           https://www.cityofmadison.com/police/newsroom/...\n",
       "description    On Sunday evening just before 9:00 p.m., offic...\n",
       "Name: 4, dtype: object"
      ]
     },
     "execution_count": 39,
     "metadata": {},
     "output_type": "execute_result"
    }
   ],
   "source": [
    "df.iloc[4] # checking values of fifth entry"
   ]
  },
  {
   "cell_type": "code",
   "execution_count": null,
   "id": "20c10e8c",
   "metadata": {},
   "outputs": [],
   "source": [
    "df.isnull().sum() # Checking if there is any missing data"
   ]
  },
  {
   "cell_type": "code",
   "execution_count": 20,
   "id": "4c797fd7",
   "metadata": {},
   "outputs": [
    {
     "data": {
      "text/plain": [
       "Text(0.5, 0, 'Number of Occurences')"
      ]
     },
     "execution_count": 20,
     "metadata": {},
     "output_type": "execute_result"
    },
    {
     "data": {
      "image/png": "[encoded data removed]",
      "text/plain": [
       "<Figure size 640x480 with 1 Axes>"
      ]
     },
     "metadata": {},
     "output_type": "display_data"
    }
   ],
   "source": [
    "# Plotting most common incidents using Seaborn\n",
    "incident_counts = df[\"incident\"].value_counts()[:10] # could we use [~\"information\"] to remove from this graph?\n",
    "fig, ax = plt.subplots()\n",
    "sns.barplot(y=incident_counts.index, x=incident_counts.values, \n",
    "            width=0.95, alpha=0.75, orient=\"h\", ax=ax)\n",
    "plt.title(\"Top 10 Most Common Incidents\")\n",
    "plt.xlabel(\"Number of Occurences\")"
   ]
  },
  {
   "cell_type": "code",
   "execution_count": 36,
   "id": "f4bc6d11",
   "metadata": {},
   "outputs": [
    {
     "data": {
      "text/plain": [
       "date           0\n",
       "incident       0\n",
       "address        0\n",
       "officer        0\n",
       "casenumber     0\n",
       "updated        0\n",
       "link           0\n",
       "description    0\n",
       "dtype: int64"
      ]
     },
     "execution_count": 36,
     "metadata": {},
     "output_type": "execute_result"
    }
   ],
   "source": []
  },
  {
   "cell_type": "code",
   "execution_count": 55,
   "id": "c398680b",
   "metadata": {},
   "outputs": [
    {
     "data": {
      "text/plain": [
       "'211 SOUTHCARROLL ST'"
      ]
     },
     "execution_count": 55,
     "metadata": {},
     "output_type": "execute_result"
    }
   ],
   "source": []
  },
  {
   "cell_type": "code",
   "execution_count": 8,
   "id": "976abfe5",
   "metadata": {},
   "outputs": [],
   "source": []
  },
  {
   "cell_type": "code",
   "execution_count": 9,
   "id": "d0e4861f",
   "metadata": {},
   "outputs": [
    {
     "data": {
      "text/plain": [
       "0       https://www.cityofmadison.com/police/newsroom/...\n",
       "1       https://www.cityofmadison.com/police/newsroom/...\n",
       "2       https://www.cityofmadison.com/police/newsroom/...\n",
       "3       https://www.cityofmadison.com/police/newsroom/...\n",
       "4       https://www.cityofmadison.com/police/newsroom/...\n",
       "                              ...                        \n",
       "2132    https://www.cityofmadison.com/police/newsroom/...\n",
       "2133    https://www.cityofmadison.com/police/newsroom/...\n",
       "2134    https://www.cityofmadison.com/police/newsroom/...\n",
       "2135    https://www.cityofmadison.com/police/newsroom/...\n",
       "2136    https://www.cityofmadison.com/police/newsroom/...\n",
       "Name: link, Length: 2137, dtype: object"
      ]
     },
     "execution_count": 9,
     "metadata": {},
     "output_type": "execute_result"
    }
   ],
   "source": []
  },
  {
   "cell_type": "code",
   "execution_count": null,
   "id": "78003b3b",
   "metadata": {},
   "outputs": [],
   "source": []
  },
  {
   "cell_type": "code",
   "execution_count": null,
   "id": "f38c6da5",
   "metadata": {},
   "outputs": [],
   "source": []
  },
  {
   "cell_type": "code",
   "execution_count": null,
   "id": "f8767bbd",
   "metadata": {},
   "outputs": [],
   "source": []
  },
  {
   "cell_type": "code",
   "execution_count": null,
   "id": "5d8fd768",
   "metadata": {},
   "outputs": [],
   "source": []
  }
 ],
 "metadata": {
  "kernelspec": {
   "display_name": "Python 3 (ipykernel)",
   "language": "python",
   "name": "python3"
  },
  "language_info": {
   "codemirror_mode": {
    "name": "ipython",
    "version": 3
   },
   "file_extension": ".py",
   "mimetype": "text/x-python",
   "name": "python",
   "nbconvert_exporter": "python",
   "pygments_lexer": "ipython3",
   "version": "3.10.8"
  }
 },
 "nbformat": 4,
 "nbformat_minor": 5
}
